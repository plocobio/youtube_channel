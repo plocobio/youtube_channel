{
  "nbformat": 4,
  "nbformat_minor": 0,
  "metadata": {
    "colab": {
      "provenance": [],
      "authorship_tag": "ABX9TyNKeuJwLpg59+0AD7uUHcwd",
      "include_colab_link": true
    },
    "kernelspec": {
      "name": "python3",
      "display_name": "Python 3"
    },
    "language_info": {
      "name": "python"
    }
  },
  "cells": [
    {
      "cell_type": "markdown",
      "metadata": {
        "id": "view-in-github",
        "colab_type": "text"
      },
      "source": [
        "<a href=\"https://colab.research.google.com/github/plocobio/youtube_channel/blob/main/Ajuste_Lineal.ipynb\" target=\"_parent\"><img src=\"https://colab.research.google.com/assets/colab-badge.svg\" alt=\"Open In Colab\"/></a>"
      ]
    },
    {
      "cell_type": "code",
      "execution_count": 30,
      "metadata": {
        "id": "6i9pNaBDNzcf"
      },
      "outputs": [],
      "source": [
        "import numpy as np\n",
        "import matplotlib.pyplot as plt\n",
        "import pandas as pd\n",
        "from scipy.optimize import curve_fit\n",
        "from scipy.stats import chi2, linregress"
      ]
    },
    {
      "cell_type": "code",
      "source": [
        "# Abre el archivo en modo de lectura\n",
        "x, dx, y, dy = np.loadtxt(\"minimos cuadrados.txt\", unpack=True)"
      ],
      "metadata": {
        "id": "ct-YOKv40l_9"
      },
      "execution_count": 44,
      "outputs": []
    },
    {
      "cell_type": "code",
      "source": [
        "def funcion_Ajuste(x,a,b):\n",
        "  return a*x + b"
      ],
      "metadata": {
        "id": "8F2HVH931OrW"
      },
      "execution_count": 45,
      "outputs": []
    },
    {
      "cell_type": "code",
      "source": [
        "parametros, errores = curve_fit(funcion_Ajuste, x, y)\n",
        "\n",
        "errores = np.sqrt(np.diag(errores))\n",
        "print(parametros)\n",
        "print(errores)\n"
      ],
      "metadata": {
        "colab": {
          "base_uri": "https://localhost:8080/"
        },
        "id": "V0fQsZAl1Vad",
        "outputId": "a4a959b9-e89e-4464-a4c5-1ca21aa7eae0"
      },
      "execution_count": 82,
      "outputs": [
        {
          "output_type": "stream",
          "name": "stdout",
          "text": [
            "[   0.56932418 -320.45097967]\n",
            "[0.01328011 8.13632253]\n"
          ]
        }
      ]
    },
    {
      "cell_type": "code",
      "source": [
        "# Realiza el ajuste lineal\n",
        "pendiente, term_indep, r_value, p_value, std_err = linregress(x, y)\n",
        "\n",
        "# Calcula el valor de chi cuadrado observado\n",
        "num_parametros_ajuste = 2\n",
        "y_pred = pendiente * x + term_indep\n",
        "residuos = y - y_pred\n",
        "varianza_residuos = np.var(residuos)\n",
        "grados_libertad = len(x) - num_parametros_ajuste - 1\n",
        "chi2_obs = sum(residuos**2 / varianza_residuos)\n",
        "\n",
        "# Calcula el valor teórico de chi cuadrado\n",
        "nivel_significancia = 0.05\n",
        "chi2_teo = chi2.ppf(1 - nivel_significancia, grados_libertad)\n",
        "\n",
        "# Imprime los resultados\n",
        "print(\"Valor de chi cuadrado observado:\", chi2_obs)\n",
        "print(\"Valor de chi cuadrado teórico:\", chi2_teo)\n",
        "\n",
        "if chi2_obs > chi2_teo:\n",
        "    print(\"El ajuste lineal no es significativo al\", nivel_significancia*100, \"% con un coeficiente r: \" , r_value)\n",
        "else:\n",
        "    print(\"El ajuste lineal es significativo al\", nivel_significancia*100, \"% con un coeficiente r: \" , r_value)"
      ],
      "metadata": {
        "colab": {
          "base_uri": "https://localhost:8080/"
        },
        "id": "Fl0AACen4hds",
        "outputId": "ec9fe0ae-b103-410f-a925-ff63a4ace7ae"
      },
      "execution_count": 83,
      "outputs": [
        {
          "output_type": "stream",
          "name": "stdout",
          "text": [
            "Valor de chi cuadrado observado: 11.0\n",
            "Valor de chi cuadrado teórico: 15.50731305586545\n",
            "El ajuste lineal es significativo al 5.0 % con un coeficiente r:  0.9975604761383139\n"
          ]
        }
      ]
    },
    {
      "cell_type": "code",
      "source": [
        "def plot_ajuste(y, dy, x, dx, pendiente, term_indep, xlabel=\"\", ylabel=\"\"):\n",
        "      \n",
        "    # Creación de la figura\n",
        "    fig, ax = plt.subplots()\n",
        "    \n",
        "    # Gráfico de las medidas con barras de error\n",
        "    ax.errorbar(x, y, xerr=dx, yerr=dy, fmt='.', label=\"Medidas\", linewidth=2)\n",
        "    \n",
        "    # Gráfico de la recta de ajuste\n",
        "    x_line = np.linspace(min(x), max(x), 100)\n",
        "    y_line = pendiente * x_line + term_indep\n",
        "    ax.plot(x_line, y_line, \"r--\", label=\"Ajuste lineal\")\n",
        "    \n",
        "    # Configuración de los ejes y la leyenda\n",
        "    ax.set_xlabel(xlabel)\n",
        "    ax.set_ylabel(ylabel)\n",
        "    ax.legend()\n",
        "      \n",
        "    plt.show()\n"
      ],
      "metadata": {
        "id": "PM70Z8ZC6Tbs"
      },
      "execution_count": 79,
      "outputs": []
    },
    {
      "cell_type": "code",
      "source": [
        "plot_ajuste(y, dy, x, dx, pendiente, term_indep, \"Eje x\", \"Eje y\")\n"
      ],
      "metadata": {
        "colab": {
          "base_uri": "https://localhost:8080/",
          "height": 449
        },
        "id": "AIE5VJPa6Wjl",
        "outputId": "32887fc2-dac9-4f0f-855d-f28c1441212d"
      },
      "execution_count": 80,
      "outputs": [
        {
          "output_type": "display_data",
          "data": {
            "text/plain": [
              "<Figure size 640x480 with 1 Axes>"
            ],
            "image/png": "[encoded data removed]"
          },
          "metadata": {}
        }
      ]
    }
  ]
}